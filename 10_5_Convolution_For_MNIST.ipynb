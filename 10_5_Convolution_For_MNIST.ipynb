{
  "nbformat": 4,
  "nbformat_minor": 0,
  "metadata": {
    "colab": {
      "provenance": []
    },
    "kernelspec": {
      "name": "python3",
      "display_name": "Python 3"
    },
    "language_info": {
      "name": "python"
    }
  },
  "cells": [
    {
      "cell_type": "markdown",
      "metadata": {
        "id": "view-in-github"
      },
      "source": [
        "<a href=\"https://colab.research.google.com/github/udlbook/udlbook/blob/main/Notebooks/Chap10/10_5_Convolution_For_MNIST.ipynb\" target=\"_parent\"><img src=\"https://colab.research.google.com/assets/colab-badge.svg\" alt=\"Open In Colab\"/></a>"
      ]
    },
    {
      "cell_type": "markdown",
      "source": [
        "# **Notebook 10.5: Convolution for MNIST**\n",
        "\n",
        "This notebook builds a proper network for 2D convolution.  It works with the MNIST dataset (figure 15.15a), which was the original classic dataset for classifying images.  The network will take a 28x28 grayscale image and classify it into one of 10 classes representing a digit.\n",
        "\n",
        "The code is adapted from https://nextjournal.com/gkoehler/pytorch-mnist\n",
        "\n",
        "Work through the cells below, running each cell in turn. In various places you will see the words \"TO DO\". Follow the instructions at these places and make predictions about what is going to happen or write code to complete the functions.\n",
        "\n",
        "Contact me at udlbookmail@gmail.com if you find any mistakes or have any suggestions.\n"
      ],
      "metadata": {
        "id": "t9vk9Elugvmi"
      }
    },
    {
      "cell_type": "code",
      "source": [
        "import torch\n",
        "import torchvision\n",
        "import torch.nn as nn\n",
        "import torch.nn.functional as F\n",
        "import torch.optim as optim\n",
        "import matplotlib.pyplot as plt\n",
        "import random"
      ],
      "metadata": {
        "id": "YrXWAH7sUWvU"
      },
      "execution_count": 1,
      "outputs": []
    },
    {
      "cell_type": "code",
      "source": [
        "# Run this once to load the train and test data straight into a dataloader class\n",
        "# that will provide the batches\n",
        "\n",
        "# (It may complain that some files are missing because the files seem to have been\n",
        "# reorganized on the underlying website, but it still seems to work). If everything is working\n",
        "# properly, then the whole notebook should run to the end without further problems\n",
        "# even before you make changes.\n",
        "batch_size_train = 64\n",
        "batch_size_test = 1000\n",
        "\n",
        "# TODO Change this directory to point towards an existing directory\n",
        "myDir = '/files/'\n",
        "\n",
        "train_loader = torch.utils.data.DataLoader(\n",
        "  torchvision.datasets.MNIST(myDir, train=True, download=True,\n",
        "                             transform=torchvision.transforms.Compose([\n",
        "                               torchvision.transforms.ToTensor(),\n",
        "                               torchvision.transforms.Normalize(\n",
        "                                 (0.1307,), (0.3081,))\n",
        "                             ])),\n",
        "  batch_size=batch_size_train, shuffle=True)\n",
        "\n",
        "test_loader = torch.utils.data.DataLoader(\n",
        "  torchvision.datasets.MNIST(myDir, train=False, download=True,\n",
        "                             transform=torchvision.transforms.Compose([\n",
        "                               torchvision.transforms.ToTensor(),\n",
        "                               torchvision.transforms.Normalize(\n",
        "                                 (0.1307,), (0.3081,))\n",
        "                             ])),\n",
        "  batch_size=batch_size_test, shuffle=True)"
      ],
      "metadata": {
        "id": "wScBGXXFVadm",
        "colab": {
          "base_uri": "https://localhost:8080/"
        },
        "outputId": "e810a1e2-f4ef-43a6-e751-45950fb1b38b"
      },
      "execution_count": 2,
      "outputs": [
        {
          "output_type": "stream",
          "name": "stdout",
          "text": [
            "Downloading http://yann.lecun.com/exdb/mnist/train-images-idx3-ubyte.gz\n",
            "Failed to download (trying next):\n",
            "<urlopen error [SSL: CERTIFICATE_VERIFY_FAILED] certificate verify failed: certificate has expired (_ssl.c:1007)>\n",
            "\n",
            "Downloading https://ossci-datasets.s3.amazonaws.com/mnist/train-images-idx3-ubyte.gz\n",
            "Downloading https://ossci-datasets.s3.amazonaws.com/mnist/train-images-idx3-ubyte.gz to /files/MNIST/raw/train-images-idx3-ubyte.gz\n"
          ]
        },
        {
          "output_type": "stream",
          "name": "stderr",
          "text": [
            "100%|██████████| 9.91M/9.91M [00:00<00:00, 159MB/s]\n"
          ]
        },
        {
          "output_type": "stream",
          "name": "stdout",
          "text": [
            "Extracting /files/MNIST/raw/train-images-idx3-ubyte.gz to /files/MNIST/raw\n",
            "\n",
            "Downloading http://yann.lecun.com/exdb/mnist/train-labels-idx1-ubyte.gz\n",
            "Failed to download (trying next):\n",
            "<urlopen error [SSL: CERTIFICATE_VERIFY_FAILED] certificate verify failed: certificate has expired (_ssl.c:1007)>\n",
            "\n",
            "Downloading https://ossci-datasets.s3.amazonaws.com/mnist/train-labels-idx1-ubyte.gz\n",
            "Downloading https://ossci-datasets.s3.amazonaws.com/mnist/train-labels-idx1-ubyte.gz to /files/MNIST/raw/train-labels-idx1-ubyte.gz\n"
          ]
        },
        {
          "output_type": "stream",
          "name": "stderr",
          "text": [
            "100%|██████████| 28.9k/28.9k [00:00<00:00, 24.2MB/s]"
          ]
        },
        {
          "output_type": "stream",
          "name": "stdout",
          "text": [
            "Extracting /files/MNIST/raw/train-labels-idx1-ubyte.gz to /files/MNIST/raw\n",
            "\n",
            "Downloading http://yann.lecun.com/exdb/mnist/t10k-images-idx3-ubyte.gz\n"
          ]
        },
        {
          "output_type": "stream",
          "name": "stderr",
          "text": [
            "\n"
          ]
        },
        {
          "output_type": "stream",
          "name": "stdout",
          "text": [
            "Failed to download (trying next):\n",
            "<urlopen error [SSL: CERTIFICATE_VERIFY_FAILED] certificate verify failed: certificate has expired (_ssl.c:1007)>\n",
            "\n",
            "Downloading https://ossci-datasets.s3.amazonaws.com/mnist/t10k-images-idx3-ubyte.gz\n",
            "Downloading https://ossci-datasets.s3.amazonaws.com/mnist/t10k-images-idx3-ubyte.gz to /files/MNIST/raw/t10k-images-idx3-ubyte.gz\n"
          ]
        },
        {
          "output_type": "stream",
          "name": "stderr",
          "text": [
            "100%|██████████| 1.65M/1.65M [00:00<00:00, 47.0MB/s]\n"
          ]
        },
        {
          "output_type": "stream",
          "name": "stdout",
          "text": [
            "Extracting /files/MNIST/raw/t10k-images-idx3-ubyte.gz to /files/MNIST/raw\n",
            "\n",
            "Downloading http://yann.lecun.com/exdb/mnist/t10k-labels-idx1-ubyte.gz\n",
            "Failed to download (trying next):\n",
            "<urlopen error [SSL: CERTIFICATE_VERIFY_FAILED] certificate verify failed: certificate has expired (_ssl.c:1007)>\n",
            "\n",
            "Downloading https://ossci-datasets.s3.amazonaws.com/mnist/t10k-labels-idx1-ubyte.gz\n",
            "Downloading https://ossci-datasets.s3.amazonaws.com/mnist/t10k-labels-idx1-ubyte.gz to /files/MNIST/raw/t10k-labels-idx1-ubyte.gz\n"
          ]
        },
        {
          "output_type": "stream",
          "name": "stderr",
          "text": [
            "100%|██████████| 4.54k/4.54k [00:00<00:00, 2.80MB/s]"
          ]
        },
        {
          "output_type": "stream",
          "name": "stdout",
          "text": [
            "Extracting /files/MNIST/raw/t10k-labels-idx1-ubyte.gz to /files/MNIST/raw\n",
            "\n"
          ]
        },
        {
          "output_type": "stream",
          "name": "stderr",
          "text": [
            "\n"
          ]
        }
      ]
    },
    {
      "cell_type": "code",
      "source": [
        "# Let's draw some of the training data\n",
        "examples = enumerate(test_loader)\n",
        "batch_idx, (example_data, example_targets) = next(examples)\n",
        "\n",
        "fig = plt.figure()\n",
        "for i in range(6):\n",
        "  plt.subplot(2,3,i+1)\n",
        "  plt.tight_layout()\n",
        "  plt.imshow(example_data[i][0], cmap='gray', interpolation='none')\n",
        "  plt.title(\"Ground Truth: {}\".format(example_targets[i]))\n",
        "  plt.xticks([])\n",
        "  plt.yticks([])\n",
        "plt.show()"
      ],
      "metadata": {
        "id": "8bKADvLHbiV5",
        "colab": {
          "base_uri": "https://localhost:8080/",
          "height": 438
        },
        "outputId": "d51d520e-4311-4541-b091-22c390847730"
      },
      "execution_count": 3,
      "outputs": [
        {
          "output_type": "display_data",
          "data": {
            "text/plain": [
              "<Figure size 640x480 with 6 Axes>"
            ],
            "image/png": "[encoded data removed]"
          },
          "metadata": {}
        }
      ]
    },
    {
      "cell_type": "markdown",
      "source": [
        "Define the network.  This is a more typical way to define a network than the sequential structure.  We define a class for the network, and define the parameters in the constructor.  Then we use a function called forward to actually run the network.  It's easy to see how you might use residual connections in this format."
      ],
      "metadata": {
        "id": "_sFvRDGrl4qe"
      }
    },
    {
      "cell_type": "code",
      "source": [
        "from os import X_OK\n",
        "# TODO Change this class to implement\n",
        "# 1. A valid convolution with kernel size 5, 1 input channel and 10 output channels\n",
        "# 2. A max pooling operation over a 2x2 area\n",
        "# 3. A Relu\n",
        "# 4. A valid convolution with kernel size 5, 10 input channels and 20 output channels\n",
        "# 5. A 2D Dropout layer\n",
        "# 6. A max pooling operation over a 2x2 area\n",
        "# 7. A relu\n",
        "# 8. A flattening operation\n",
        "# 9. A fully connected layer mapping from (whatever dimensions we are at-- find out using .shape) to 50\n",
        "# 10. A ReLU\n",
        "# 11. A fully connected layer mapping from 50 to 10 dimensions\n",
        "# 12. A softmax function.\n",
        "\n",
        "# Replace this class which implements a minimal network (which still does okay)\n",
        "\n",
        "class Net(nn.Module):\n",
        "    def __init__(self):\n",
        "        super(Net, self).__init__()\n",
        "        # 1. Convolution with kernel size 5, 1 input channel, 10 output channels\n",
        "        self.conv1 = nn.Conv2d(1, 10, kernel_size=5)\n",
        "        # 2. Max pooling over a 2x2 area\n",
        "        self.pool1 = nn.MaxPool2d(2, 2)\n",
        "        # 3. ReLU\n",
        "        self.relu1 = nn.ReLU()\n",
        "        # 4. Convolution with kernel size 5, 10 input channels, 20 output channels\n",
        "        self.conv2 = nn.Conv2d(10, 20, kernel_size=5)\n",
        "        # 5. 2D Dropout layer\n",
        "        self.drop = nn.Dropout2d()\n",
        "        # 6. Max pooling over a 2x2 area\n",
        "        self.pool2 = nn.MaxPool2d(2, 2)\n",
        "        # 7. ReLU\n",
        "        self.relu2 = nn.ReLU()\n",
        "        # 8. Flattening operation\n",
        "        # 9. Fully connected layer mapping to 50\n",
        "        self.fc1 = nn.Linear(320, 50)  # Input size: 320 (calculated below)\n",
        "        # 10. ReLU\n",
        "        self.relu3 = nn.ReLU()\n",
        "        # 11. Fully connected layer mapping to 10 dimensions\n",
        "        self.fc2 = nn.Linear(50, 10)\n",
        "        # 12. Softmax function (applied in forward)\n",
        "\n",
        "\n",
        "    def forward(self, x):\n",
        "        x = self.pool1(self.relu1(self.conv1(x)))\n",
        "        x = self.pool2(self.relu2(self.drop(self.conv2(x))))\n",
        "        x = x.view(-1, 320)  # Flattening: 320 is the output size\n",
        "        x = self.relu3(self.fc1(x))\n",
        "        x = F.log_softmax(self.fc2(x))  # Softmax\n",
        "        return x\n",
        "\n",
        "\n"
      ],
      "metadata": {
        "id": "EQkvw2KOPVl7"
      },
      "execution_count": 5,
      "outputs": []
    },
    {
      "cell_type": "code",
      "source": [
        "# He initialization of weights\n",
        "def weights_init(layer_in):\n",
        "  if isinstance(layer_in, nn.Linear):\n",
        "    nn.init.kaiming_uniform_(layer_in.weight)\n",
        "    layer_in.bias.data.fill_(0.0)"
      ],
      "metadata": {
        "id": "qWZtkCZcU_dg"
      },
      "execution_count": 7,
      "outputs": []
    },
    {
      "cell_type": "code",
      "source": [
        "# Create network\n",
        "model = Net()\n",
        "# Initialize model weights\n",
        "model.apply(weights_init)\n",
        "# Define optimizer\n",
        "optimizer = optim.SGD(model.parameters(), lr=0.01, momentum=0.5)"
      ],
      "metadata": {
        "id": "FslroPJJffrh"
      },
      "execution_count": 8,
      "outputs": []
    },
    {
      "cell_type": "code",
      "source": [
        "# Main training routine\n",
        "def train(epoch):\n",
        "  model.train()\n",
        "  # Get each\n",
        "  for batch_idx, (data, target) in enumerate(train_loader):\n",
        "    optimizer.zero_grad()\n",
        "    output = model(data)\n",
        "    loss = F.nll_loss(output, target)\n",
        "    loss.backward()\n",
        "    optimizer.step()\n",
        "    # Store results\n",
        "    if batch_idx % 10 == 0:\n",
        "      print('Train Epoch: {} [{}/{}]\\tLoss: {:.6f}'.format(\n",
        "        epoch, batch_idx * len(data), len(train_loader.dataset), loss.item()))"
      ],
      "metadata": {
        "id": "xKQd9PzkQ766"
      },
      "execution_count": 9,
      "outputs": []
    },
    {
      "cell_type": "code",
      "source": [
        "# Run on test data\n",
        "def test():\n",
        "  model.eval()\n",
        "  test_loss = 0\n",
        "  correct = 0\n",
        "  with torch.no_grad():\n",
        "    for data, target in test_loader:\n",
        "      output = model(data)\n",
        "      test_loss += F.nll_loss(output, target, size_average=False).item()\n",
        "      pred = output.data.max(1, keepdim=True)[1]\n",
        "      correct += pred.eq(target.data.view_as(pred)).sum()\n",
        "  test_loss /= len(test_loader.dataset)\n",
        "  print('\\nTest set: Avg. loss: {:.4f}, Accuracy: {}/{} ({:.0f}%)\\n'.format(\n",
        "    test_loss, correct, len(test_loader.dataset),\n",
        "    100. * correct / len(test_loader.dataset)))"
      ],
      "metadata": {
        "id": "Byn-f7qWRLxX"
      },
      "execution_count": 10,
      "outputs": []
    },
    {
      "cell_type": "code",
      "source": [
        "# Get initial performance\n",
        "test()\n",
        "# Train for three epochs\n",
        "n_epochs = 3\n",
        "for epoch in range(1, n_epochs + 1):\n",
        "  train(epoch)\n",
        "  test()"
      ],
      "metadata": {
        "id": "YgLaex1pfhqz",
        "colab": {
          "base_uri": "https://localhost:8080/"
        },
        "outputId": "3b9d742d-ae95-4648-b06f-b0a3e60d0a6b"
      },
      "execution_count": 11,
      "outputs": [
        {
          "output_type": "stream",
          "name": "stderr",
          "text": [
            "<ipython-input-5-5067e1a0d4f9>:50: UserWarning: Implicit dimension choice for log_softmax has been deprecated. Change the call to include dim=X as an argument.\n",
            "  x = F.log_softmax(self.fc2(x))  # Softmax\n",
            "/usr/local/lib/python3.10/dist-packages/torch/nn/_reduction.py:51: UserWarning: size_average and reduce args will be deprecated, please use reduction='sum' instead.\n",
            "  warnings.warn(warning.format(ret))\n"
          ]
        },
        {
          "output_type": "stream",
          "name": "stdout",
          "text": [
            "\n",
            "Test set: Avg. loss: 2.5231, Accuracy: 1065/10000 (11%)\n",
            "\n",
            "Train Epoch: 1 [0/60000]\tLoss: 2.576152\n",
            "Train Epoch: 1 [640/60000]\tLoss: 2.272242\n",
            "Train Epoch: 1 [1280/60000]\tLoss: 2.144670\n",
            "Train Epoch: 1 [1920/60000]\tLoss: 1.949176\n",
            "Train Epoch: 1 [2560/60000]\tLoss: 1.722807\n",
            "Train Epoch: 1 [3200/60000]\tLoss: 1.491952\n",
            "Train Epoch: 1 [3840/60000]\tLoss: 1.411109\n",
            "Train Epoch: 1 [4480/60000]\tLoss: 1.011134\n",
            "Train Epoch: 1 [5120/60000]\tLoss: 1.011901\n",
            "Train Epoch: 1 [5760/60000]\tLoss: 1.186126\n",
            "Train Epoch: 1 [6400/60000]\tLoss: 0.857693\n",
            "Train Epoch: 1 [7040/60000]\tLoss: 0.888870\n",
            "Train Epoch: 1 [7680/60000]\tLoss: 0.811729\n",
            "Train Epoch: 1 [8320/60000]\tLoss: 0.749776\n",
            "Train Epoch: 1 [8960/60000]\tLoss: 0.698310\n",
            "Train Epoch: 1 [9600/60000]\tLoss: 0.969162\n",
            "Train Epoch: 1 [10240/60000]\tLoss: 0.695282\n",
            "Train Epoch: 1 [10880/60000]\tLoss: 0.577726\n",
            "Train Epoch: 1 [11520/60000]\tLoss: 0.613047\n",
            "Train Epoch: 1 [12160/60000]\tLoss: 0.699498\n",
            "Train Epoch: 1 [12800/60000]\tLoss: 0.454726\n",
            "Train Epoch: 1 [13440/60000]\tLoss: 0.465418\n",
            "Train Epoch: 1 [14080/60000]\tLoss: 0.718791\n",
            "Train Epoch: 1 [14720/60000]\tLoss: 0.708051\n",
            "Train Epoch: 1 [15360/60000]\tLoss: 0.576178\n",
            "Train Epoch: 1 [16000/60000]\tLoss: 0.430011\n",
            "Train Epoch: 1 [16640/60000]\tLoss: 0.614368\n",
            "Train Epoch: 1 [17280/60000]\tLoss: 0.989111\n",
            "Train Epoch: 1 [17920/60000]\tLoss: 0.470726\n",
            "Train Epoch: 1 [18560/60000]\tLoss: 0.344739\n",
            "Train Epoch: 1 [19200/60000]\tLoss: 0.431597\n",
            "Train Epoch: 1 [19840/60000]\tLoss: 0.425907\n",
            "Train Epoch: 1 [20480/60000]\tLoss: 0.467270\n",
            "Train Epoch: 1 [21120/60000]\tLoss: 0.244007\n",
            "Train Epoch: 1 [21760/60000]\tLoss: 0.467772\n",
            "Train Epoch: 1 [22400/60000]\tLoss: 0.242947\n",
            "Train Epoch: 1 [23040/60000]\tLoss: 0.320268\n",
            "Train Epoch: 1 [23680/60000]\tLoss: 0.767950\n",
            "Train Epoch: 1 [24320/60000]\tLoss: 0.251412\n",
            "Train Epoch: 1 [24960/60000]\tLoss: 0.403103\n",
            "Train Epoch: 1 [25600/60000]\tLoss: 0.321763\n",
            "Train Epoch: 1 [26240/60000]\tLoss: 0.309825\n",
            "Train Epoch: 1 [26880/60000]\tLoss: 0.407852\n",
            "Train Epoch: 1 [27520/60000]\tLoss: 0.538245\n",
            "Train Epoch: 1 [28160/60000]\tLoss: 0.396129\n",
            "Train Epoch: 1 [28800/60000]\tLoss: 0.274471\n",
            "Train Epoch: 1 [29440/60000]\tLoss: 0.646943\n",
            "Train Epoch: 1 [30080/60000]\tLoss: 0.347323\n",
            "Train Epoch: 1 [30720/60000]\tLoss: 0.129479\n",
            "Train Epoch: 1 [31360/60000]\tLoss: 0.221134\n",
            "Train Epoch: 1 [32000/60000]\tLoss: 0.318592\n",
            "Train Epoch: 1 [32640/60000]\tLoss: 0.468808\n",
            "Train Epoch: 1 [33280/60000]\tLoss: 0.326514\n",
            "Train Epoch: 1 [33920/60000]\tLoss: 0.608032\n",
            "Train Epoch: 1 [34560/60000]\tLoss: 0.367379\n",
            "Train Epoch: 1 [35200/60000]\tLoss: 0.212105\n",
            "Train Epoch: 1 [35840/60000]\tLoss: 0.314387\n",
            "Train Epoch: 1 [36480/60000]\tLoss: 0.197129\n",
            "Train Epoch: 1 [37120/60000]\tLoss: 0.350739\n",
            "Train Epoch: 1 [37760/60000]\tLoss: 0.283352\n",
            "Train Epoch: 1 [38400/60000]\tLoss: 0.366049\n",
            "Train Epoch: 1 [39040/60000]\tLoss: 0.298952\n",
            "Train Epoch: 1 [39680/60000]\tLoss: 0.223955\n",
            "Train Epoch: 1 [40320/60000]\tLoss: 0.190506\n",
            "Train Epoch: 1 [40960/60000]\tLoss: 0.240274\n",
            "Train Epoch: 1 [41600/60000]\tLoss: 0.233092\n",
            "Train Epoch: 1 [42240/60000]\tLoss: 0.357579\n",
            "Train Epoch: 1 [42880/60000]\tLoss: 0.401829\n",
            "Train Epoch: 1 [43520/60000]\tLoss: 0.257850\n",
            "Train Epoch: 1 [44160/60000]\tLoss: 0.374182\n",
            "Train Epoch: 1 [44800/60000]\tLoss: 0.385480\n",
            "Train Epoch: 1 [45440/60000]\tLoss: 0.369910\n",
            "Train Epoch: 1 [46080/60000]\tLoss: 0.145276\n",
            "Train Epoch: 1 [46720/60000]\tLoss: 0.259799\n",
            "Train Epoch: 1 [47360/60000]\tLoss: 0.238036\n",
            "Train Epoch: 1 [48000/60000]\tLoss: 0.191834\n",
            "Train Epoch: 1 [48640/60000]\tLoss: 0.447486\n",
            "Train Epoch: 1 [49280/60000]\tLoss: 0.336508\n",
            "Train Epoch: 1 [49920/60000]\tLoss: 0.174534\n",
            "Train Epoch: 1 [50560/60000]\tLoss: 0.277694\n",
            "Train Epoch: 1 [51200/60000]\tLoss: 0.167516\n",
            "Train Epoch: 1 [51840/60000]\tLoss: 0.218847\n",
            "Train Epoch: 1 [52480/60000]\tLoss: 0.336879\n",
            "Train Epoch: 1 [53120/60000]\tLoss: 0.316688\n",
            "Train Epoch: 1 [53760/60000]\tLoss: 0.282054\n",
            "Train Epoch: 1 [54400/60000]\tLoss: 0.323018\n",
            "Train Epoch: 1 [55040/60000]\tLoss: 0.213511\n",
            "Train Epoch: 1 [55680/60000]\tLoss: 0.260086\n",
            "Train Epoch: 1 [56320/60000]\tLoss: 0.236548\n",
            "Train Epoch: 1 [56960/60000]\tLoss: 0.235720\n",
            "Train Epoch: 1 [57600/60000]\tLoss: 0.225333\n",
            "Train Epoch: 1 [58240/60000]\tLoss: 0.221099\n",
            "Train Epoch: 1 [58880/60000]\tLoss: 0.142785\n",
            "Train Epoch: 1 [59520/60000]\tLoss: 0.212194\n",
            "\n",
            "Test set: Avg. loss: 0.1339, Accuracy: 9576/10000 (96%)\n",
            "\n",
            "Train Epoch: 2 [0/60000]\tLoss: 0.536003\n",
            "Train Epoch: 2 [640/60000]\tLoss: 0.090146\n",
            "Train Epoch: 2 [1280/60000]\tLoss: 0.233052\n",
            "Train Epoch: 2 [1920/60000]\tLoss: 0.142380\n",
            "Train Epoch: 2 [2560/60000]\tLoss: 0.335671\n",
            "Train Epoch: 2 [3200/60000]\tLoss: 0.346805\n",
            "Train Epoch: 2 [3840/60000]\tLoss: 0.058055\n",
            "Train Epoch: 2 [4480/60000]\tLoss: 0.235053\n",
            "Train Epoch: 2 [5120/60000]\tLoss: 0.207425\n",
            "Train Epoch: 2 [5760/60000]\tLoss: 0.136710\n",
            "Train Epoch: 2 [6400/60000]\tLoss: 0.160242\n",
            "Train Epoch: 2 [7040/60000]\tLoss: 0.110211\n",
            "Train Epoch: 2 [7680/60000]\tLoss: 0.299009\n",
            "Train Epoch: 2 [8320/60000]\tLoss: 0.229074\n",
            "Train Epoch: 2 [8960/60000]\tLoss: 0.152962\n",
            "Train Epoch: 2 [9600/60000]\tLoss: 0.169209\n",
            "Train Epoch: 2 [10240/60000]\tLoss: 0.131612\n",
            "Train Epoch: 2 [10880/60000]\tLoss: 0.212411\n",
            "Train Epoch: 2 [11520/60000]\tLoss: 0.184654\n",
            "Train Epoch: 2 [12160/60000]\tLoss: 0.239357\n",
            "Train Epoch: 2 [12800/60000]\tLoss: 0.120656\n",
            "Train Epoch: 2 [13440/60000]\tLoss: 0.299918\n",
            "Train Epoch: 2 [14080/60000]\tLoss: 0.237642\n",
            "Train Epoch: 2 [14720/60000]\tLoss: 0.259510\n",
            "Train Epoch: 2 [15360/60000]\tLoss: 0.094573\n",
            "Train Epoch: 2 [16000/60000]\tLoss: 0.268501\n",
            "Train Epoch: 2 [16640/60000]\tLoss: 0.205662\n",
            "Train Epoch: 2 [17280/60000]\tLoss: 0.146774\n",
            "Train Epoch: 2 [17920/60000]\tLoss: 0.291073\n",
            "Train Epoch: 2 [18560/60000]\tLoss: 0.257693\n",
            "Train Epoch: 2 [19200/60000]\tLoss: 0.115745\n",
            "Train Epoch: 2 [19840/60000]\tLoss: 0.098469\n",
            "Train Epoch: 2 [20480/60000]\tLoss: 0.136101\n",
            "Train Epoch: 2 [21120/60000]\tLoss: 0.266493\n",
            "Train Epoch: 2 [21760/60000]\tLoss: 0.288595\n",
            "Train Epoch: 2 [22400/60000]\tLoss: 0.250425\n",
            "Train Epoch: 2 [23040/60000]\tLoss: 0.418096\n",
            "Train Epoch: 2 [23680/60000]\tLoss: 0.183328\n",
            "Train Epoch: 2 [24320/60000]\tLoss: 0.094091\n",
            "Train Epoch: 2 [24960/60000]\tLoss: 0.167714\n",
            "Train Epoch: 2 [25600/60000]\tLoss: 0.220766\n",
            "Train Epoch: 2 [26240/60000]\tLoss: 0.463454\n",
            "Train Epoch: 2 [26880/60000]\tLoss: 0.182740\n",
            "Train Epoch: 2 [27520/60000]\tLoss: 0.167167\n",
            "Train Epoch: 2 [28160/60000]\tLoss: 0.152326\n",
            "Train Epoch: 2 [28800/60000]\tLoss: 0.128363\n",
            "Train Epoch: 2 [29440/60000]\tLoss: 0.115490\n",
            "Train Epoch: 2 [30080/60000]\tLoss: 0.235159\n",
            "Train Epoch: 2 [30720/60000]\tLoss: 0.100475\n",
            "Train Epoch: 2 [31360/60000]\tLoss: 0.097276\n",
            "Train Epoch: 2 [32000/60000]\tLoss: 0.279419\n",
            "Train Epoch: 2 [32640/60000]\tLoss: 0.332412\n",
            "Train Epoch: 2 [33280/60000]\tLoss: 0.232580\n",
            "Train Epoch: 2 [33920/60000]\tLoss: 0.181450\n",
            "Train Epoch: 2 [34560/60000]\tLoss: 0.241399\n",
            "Train Epoch: 2 [35200/60000]\tLoss: 0.046842\n",
            "Train Epoch: 2 [35840/60000]\tLoss: 0.093767\n",
            "Train Epoch: 2 [36480/60000]\tLoss: 0.097892\n",
            "Train Epoch: 2 [37120/60000]\tLoss: 0.321971\n",
            "Train Epoch: 2 [37760/60000]\tLoss: 0.075320\n",
            "Train Epoch: 2 [38400/60000]\tLoss: 0.229620\n",
            "Train Epoch: 2 [39040/60000]\tLoss: 0.160598\n",
            "Train Epoch: 2 [39680/60000]\tLoss: 0.114318\n",
            "Train Epoch: 2 [40320/60000]\tLoss: 0.199082\n",
            "Train Epoch: 2 [40960/60000]\tLoss: 0.199306\n",
            "Train Epoch: 2 [41600/60000]\tLoss: 0.078245\n",
            "Train Epoch: 2 [42240/60000]\tLoss: 0.161650\n",
            "Train Epoch: 2 [42880/60000]\tLoss: 0.263129\n",
            "Train Epoch: 2 [43520/60000]\tLoss: 0.124252\n",
            "Train Epoch: 2 [44160/60000]\tLoss: 0.171053\n",
            "Train Epoch: 2 [44800/60000]\tLoss: 0.284241\n",
            "Train Epoch: 2 [45440/60000]\tLoss: 0.210954\n",
            "Train Epoch: 2 [46080/60000]\tLoss: 0.199011\n",
            "Train Epoch: 2 [46720/60000]\tLoss: 0.149397\n",
            "Train Epoch: 2 [47360/60000]\tLoss: 0.206347\n",
            "Train Epoch: 2 [48000/60000]\tLoss: 0.152015\n",
            "Train Epoch: 2 [48640/60000]\tLoss: 0.280126\n",
            "Train Epoch: 2 [49280/60000]\tLoss: 0.347021\n",
            "Train Epoch: 2 [49920/60000]\tLoss: 0.357711\n",
            "Train Epoch: 2 [50560/60000]\tLoss: 0.120622\n",
            "Train Epoch: 2 [51200/60000]\tLoss: 0.389020\n",
            "Train Epoch: 2 [51840/60000]\tLoss: 0.168207\n",
            "Train Epoch: 2 [52480/60000]\tLoss: 0.098783\n",
            "Train Epoch: 2 [53120/60000]\tLoss: 0.208590\n",
            "Train Epoch: 2 [53760/60000]\tLoss: 0.160856\n",
            "Train Epoch: 2 [54400/60000]\tLoss: 0.163928\n",
            "Train Epoch: 2 [55040/60000]\tLoss: 0.191966\n",
            "Train Epoch: 2 [55680/60000]\tLoss: 0.073966\n",
            "Train Epoch: 2 [56320/60000]\tLoss: 0.065867\n",
            "Train Epoch: 2 [56960/60000]\tLoss: 0.183022\n",
            "Train Epoch: 2 [57600/60000]\tLoss: 0.099300\n",
            "Train Epoch: 2 [58240/60000]\tLoss: 0.150807\n",
            "Train Epoch: 2 [58880/60000]\tLoss: 0.261046\n",
            "Train Epoch: 2 [59520/60000]\tLoss: 0.129502\n",
            "\n",
            "Test set: Avg. loss: 0.0878, Accuracy: 9732/10000 (97%)\n",
            "\n",
            "Train Epoch: 3 [0/60000]\tLoss: 0.231945\n",
            "Train Epoch: 3 [640/60000]\tLoss: 0.312392\n",
            "Train Epoch: 3 [1280/60000]\tLoss: 0.133396\n",
            "Train Epoch: 3 [1920/60000]\tLoss: 0.137768\n",
            "Train Epoch: 3 [2560/60000]\tLoss: 0.092744\n",
            "Train Epoch: 3 [3200/60000]\tLoss: 0.105136\n",
            "Train Epoch: 3 [3840/60000]\tLoss: 0.175743\n",
            "Train Epoch: 3 [4480/60000]\tLoss: 0.252034\n",
            "Train Epoch: 3 [5120/60000]\tLoss: 0.212970\n",
            "Train Epoch: 3 [5760/60000]\tLoss: 0.051118\n",
            "Train Epoch: 3 [6400/60000]\tLoss: 0.183144\n",
            "Train Epoch: 3 [7040/60000]\tLoss: 0.247314\n",
            "Train Epoch: 3 [7680/60000]\tLoss: 0.077475\n",
            "Train Epoch: 3 [8320/60000]\tLoss: 0.202093\n",
            "Train Epoch: 3 [8960/60000]\tLoss: 0.134936\n",
            "Train Epoch: 3 [9600/60000]\tLoss: 0.106992\n",
            "Train Epoch: 3 [10240/60000]\tLoss: 0.293828\n",
            "Train Epoch: 3 [10880/60000]\tLoss: 0.366886\n",
            "Train Epoch: 3 [11520/60000]\tLoss: 0.338866\n",
            "Train Epoch: 3 [12160/60000]\tLoss: 0.169156\n",
            "Train Epoch: 3 [12800/60000]\tLoss: 0.038005\n",
            "Train Epoch: 3 [13440/60000]\tLoss: 0.054885\n",
            "Train Epoch: 3 [14080/60000]\tLoss: 0.112671\n",
            "Train Epoch: 3 [14720/60000]\tLoss: 0.177937\n",
            "Train Epoch: 3 [15360/60000]\tLoss: 0.141529\n",
            "Train Epoch: 3 [16000/60000]\tLoss: 0.196607\n",
            "Train Epoch: 3 [16640/60000]\tLoss: 0.077863\n",
            "Train Epoch: 3 [17280/60000]\tLoss: 0.060408\n",
            "Train Epoch: 3 [17920/60000]\tLoss: 0.137624\n",
            "Train Epoch: 3 [18560/60000]\tLoss: 0.140723\n",
            "Train Epoch: 3 [19200/60000]\tLoss: 0.306946\n",
            "Train Epoch: 3 [19840/60000]\tLoss: 0.206010\n",
            "Train Epoch: 3 [20480/60000]\tLoss: 0.309185\n",
            "Train Epoch: 3 [21120/60000]\tLoss: 0.080876\n",
            "Train Epoch: 3 [21760/60000]\tLoss: 0.193015\n",
            "Train Epoch: 3 [22400/60000]\tLoss: 0.191164\n",
            "Train Epoch: 3 [23040/60000]\tLoss: 0.322833\n",
            "Train Epoch: 3 [23680/60000]\tLoss: 0.138679\n",
            "Train Epoch: 3 [24320/60000]\tLoss: 0.240563\n",
            "Train Epoch: 3 [24960/60000]\tLoss: 0.174086\n",
            "Train Epoch: 3 [25600/60000]\tLoss: 0.194996\n",
            "Train Epoch: 3 [26240/60000]\tLoss: 0.094104\n",
            "Train Epoch: 3 [26880/60000]\tLoss: 0.192055\n",
            "Train Epoch: 3 [27520/60000]\tLoss: 0.210387\n",
            "Train Epoch: 3 [28160/60000]\tLoss: 0.109555\n",
            "Train Epoch: 3 [28800/60000]\tLoss: 0.114437\n",
            "Train Epoch: 3 [29440/60000]\tLoss: 0.292199\n",
            "Train Epoch: 3 [30080/60000]\tLoss: 0.180871\n",
            "Train Epoch: 3 [30720/60000]\tLoss: 0.263236\n",
            "Train Epoch: 3 [31360/60000]\tLoss: 0.123671\n",
            "Train Epoch: 3 [32000/60000]\tLoss: 0.361815\n",
            "Train Epoch: 3 [32640/60000]\tLoss: 0.220742\n",
            "Train Epoch: 3 [33280/60000]\tLoss: 0.077021\n",
            "Train Epoch: 3 [33920/60000]\tLoss: 0.074796\n",
            "Train Epoch: 3 [34560/60000]\tLoss: 0.210876\n",
            "Train Epoch: 3 [35200/60000]\tLoss: 0.137272\n",
            "Train Epoch: 3 [35840/60000]\tLoss: 0.078017\n",
            "Train Epoch: 3 [36480/60000]\tLoss: 0.090511\n",
            "Train Epoch: 3 [37120/60000]\tLoss: 0.169748\n",
            "Train Epoch: 3 [37760/60000]\tLoss: 0.217613\n",
            "Train Epoch: 3 [38400/60000]\tLoss: 0.163270\n",
            "Train Epoch: 3 [39040/60000]\tLoss: 0.231000\n",
            "Train Epoch: 3 [39680/60000]\tLoss: 0.155222\n",
            "Train Epoch: 3 [40320/60000]\tLoss: 0.153988\n",
            "Train Epoch: 3 [40960/60000]\tLoss: 0.148536\n",
            "Train Epoch: 3 [41600/60000]\tLoss: 0.101801\n",
            "Train Epoch: 3 [42240/60000]\tLoss: 0.176353\n",
            "Train Epoch: 3 [42880/60000]\tLoss: 0.053743\n",
            "Train Epoch: 3 [43520/60000]\tLoss: 0.117983\n",
            "Train Epoch: 3 [44160/60000]\tLoss: 0.176304\n",
            "Train Epoch: 3 [44800/60000]\tLoss: 0.186441\n",
            "Train Epoch: 3 [45440/60000]\tLoss: 0.053897\n",
            "Train Epoch: 3 [46080/60000]\tLoss: 0.103608\n",
            "Train Epoch: 3 [46720/60000]\tLoss: 0.221758\n",
            "Train Epoch: 3 [47360/60000]\tLoss: 0.202608\n",
            "Train Epoch: 3 [48000/60000]\tLoss: 0.097339\n",
            "Train Epoch: 3 [48640/60000]\tLoss: 0.123106\n",
            "Train Epoch: 3 [49280/60000]\tLoss: 0.185988\n",
            "Train Epoch: 3 [49920/60000]\tLoss: 0.074547\n",
            "Train Epoch: 3 [50560/60000]\tLoss: 0.057488\n",
            "Train Epoch: 3 [51200/60000]\tLoss: 0.104804\n",
            "Train Epoch: 3 [51840/60000]\tLoss: 0.136540\n",
            "Train Epoch: 3 [52480/60000]\tLoss: 0.105164\n",
            "Train Epoch: 3 [53120/60000]\tLoss: 0.063600\n",
            "Train Epoch: 3 [53760/60000]\tLoss: 0.111240\n",
            "Train Epoch: 3 [54400/60000]\tLoss: 0.046699\n",
            "Train Epoch: 3 [55040/60000]\tLoss: 0.089732\n",
            "Train Epoch: 3 [55680/60000]\tLoss: 0.278738\n",
            "Train Epoch: 3 [56320/60000]\tLoss: 0.087804\n",
            "Train Epoch: 3 [56960/60000]\tLoss: 0.190279\n",
            "Train Epoch: 3 [57600/60000]\tLoss: 0.064073\n",
            "Train Epoch: 3 [58240/60000]\tLoss: 0.115892\n",
            "Train Epoch: 3 [58880/60000]\tLoss: 0.159072\n",
            "Train Epoch: 3 [59520/60000]\tLoss: 0.049703\n",
            "\n",
            "Test set: Avg. loss: 0.0737, Accuracy: 9773/10000 (98%)\n",
            "\n"
          ]
        }
      ]
    },
    {
      "cell_type": "code",
      "source": [
        "# Run network on data we got before and show predictions\n",
        "output = model(example_data)\n",
        "\n",
        "fig = plt.figure()\n",
        "for i in range(10):\n",
        "  plt.subplot(5,5,i+1)\n",
        "  plt.tight_layout()\n",
        "  plt.imshow(example_data[i][0], cmap='gray', interpolation='none')\n",
        "  plt.title(\"Prediction: {}\".format(\n",
        "    output.data.max(1, keepdim=True)[1][i].item()))\n",
        "  plt.xticks([])\n",
        "  plt.yticks([])\n",
        "plt.show()"
      ],
      "metadata": {
        "id": "o7fRUAy9Se1B",
        "colab": {
          "base_uri": "https://localhost:8080/",
          "height": 262
        },
        "outputId": "54504c46-e17b-459b-d224-c03b2af40953"
      },
      "execution_count": 12,
      "outputs": [
        {
          "output_type": "stream",
          "name": "stderr",
          "text": [
            "<ipython-input-5-5067e1a0d4f9>:50: UserWarning: Implicit dimension choice for log_softmax has been deprecated. Change the call to include dim=X as an argument.\n",
            "  x = F.log_softmax(self.fc2(x))  # Softmax\n"
          ]
        },
        {
          "output_type": "display_data",
          "data": {
            "text/plain": [
              "<Figure size 640x480 with 10 Axes>"
            ],
            "image/png": "[encoded data removed]"
          },
          "metadata": {}
        }
      ]
    }
  ]
}