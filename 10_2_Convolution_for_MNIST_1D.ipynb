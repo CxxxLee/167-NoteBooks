{
  "nbformat": 4,
  "nbformat_minor": 0,
  "metadata": {
    "colab": {
      "provenance": []
    },
    "kernelspec": {
      "name": "python3",
      "display_name": "Python 3"
    },
    "language_info": {
      "name": "python"
    }
  },
  "cells": [
    {
      "cell_type": "markdown",
      "metadata": {
        "id": "view-in-github"
      },
      "source": [
        "<a href=\"https://colab.research.google.com/github/udlbook/udlbook/blob/main/Notebooks/Chap10/10_2_Convolution_for_MNIST_1D.ipynb\" target=\"_parent\"><img src=\"https://colab.research.google.com/assets/colab-badge.svg\" alt=\"Open In Colab\"/></a>"
      ]
    },
    {
      "cell_type": "markdown",
      "source": [
        "# **Notebook 10.2: Convolution for MNIST-1D**\n",
        "\n",
        "This notebook investigates a 1D convolutional network for MNIST-1D as in figure 10.7 and 10.8a.\n",
        "\n",
        "Work through the cells below, running each cell in turn. In various places you will see the words \"TO DO\". Follow the instructions at these places and make predictions about what is going to happen or write code to complete the functions.\n",
        "\n",
        "Contact me at udlbookmail@gmail.com if you find any mistakes or have any suggestions.\n",
        "\n"
      ],
      "metadata": {
        "id": "t9vk9Elugvmi"
      }
    },
    {
      "cell_type": "code",
      "source": [
        "# Run this if you're in a Colab to install MNIST 1D repository\n",
        "!pip install git+https://github.com/greydanus/mnist1d"
      ],
      "metadata": {
        "id": "D5yLObtZCi9J",
        "colab": {
          "base_uri": "https://localhost:8080/"
        },
        "outputId": "f38e17e4-cbf4-4a40-f7da-624e0a645f52"
      },
      "execution_count": 1,
      "outputs": [
        {
          "output_type": "stream",
          "name": "stdout",
          "text": [
            "Collecting git+https://github.com/greydanus/mnist1d\n",
            "  Cloning https://github.com/greydanus/mnist1d to /tmp/pip-req-build-wb6yaw9j\n",
            "  Running command git clone --filter=blob:none --quiet https://github.com/greydanus/mnist1d /tmp/pip-req-build-wb6yaw9j\n",
            "  Resolved https://github.com/greydanus/mnist1d to commit 7878d96082abd200c546a07a4101fa90b30fdf7e\n",
            "  Installing build dependencies ... \u001b[?25l\u001b[?25hdone\n",
            "  Getting requirements to build wheel ... \u001b[?25l\u001b[?25hdone\n",
            "  Preparing metadata (pyproject.toml) ... \u001b[?25l\u001b[?25hdone\n",
            "Requirement already satisfied: requests in /usr/local/lib/python3.10/dist-packages (from mnist1d==0.0.2.post16) (2.32.3)\n",
            "Requirement already satisfied: numpy in /usr/local/lib/python3.10/dist-packages (from mnist1d==0.0.2.post16) (1.26.4)\n",
            "Requirement already satisfied: matplotlib in /usr/local/lib/python3.10/dist-packages (from mnist1d==0.0.2.post16) (3.8.0)\n",
            "Requirement already satisfied: scipy in /usr/local/lib/python3.10/dist-packages (from mnist1d==0.0.2.post16) (1.13.1)\n",
            "Requirement already satisfied: contourpy>=1.0.1 in /usr/local/lib/python3.10/dist-packages (from matplotlib->mnist1d==0.0.2.post16) (1.3.0)\n",
            "Requirement already satisfied: cycler>=0.10 in /usr/local/lib/python3.10/dist-packages (from matplotlib->mnist1d==0.0.2.post16) (0.12.1)\n",
            "Requirement already satisfied: fonttools>=4.22.0 in /usr/local/lib/python3.10/dist-packages (from matplotlib->mnist1d==0.0.2.post16) (4.54.1)\n",
            "Requirement already satisfied: kiwisolver>=1.0.1 in /usr/local/lib/python3.10/dist-packages (from matplotlib->mnist1d==0.0.2.post16) (1.4.7)\n",
            "Requirement already satisfied: packaging>=20.0 in /usr/local/lib/python3.10/dist-packages (from matplotlib->mnist1d==0.0.2.post16) (24.1)\n",
            "Requirement already satisfied: pillow>=6.2.0 in /usr/local/lib/python3.10/dist-packages (from matplotlib->mnist1d==0.0.2.post16) (10.4.0)\n",
            "Requirement already satisfied: pyparsing>=2.3.1 in /usr/local/lib/python3.10/dist-packages (from matplotlib->mnist1d==0.0.2.post16) (3.2.0)\n",
            "Requirement already satisfied: python-dateutil>=2.7 in /usr/local/lib/python3.10/dist-packages (from matplotlib->mnist1d==0.0.2.post16) (2.8.2)\n",
            "Requirement already satisfied: charset-normalizer<4,>=2 in /usr/local/lib/python3.10/dist-packages (from requests->mnist1d==0.0.2.post16) (3.4.0)\n",
            "Requirement already satisfied: idna<4,>=2.5 in /usr/local/lib/python3.10/dist-packages (from requests->mnist1d==0.0.2.post16) (3.10)\n",
            "Requirement already satisfied: urllib3<3,>=1.21.1 in /usr/local/lib/python3.10/dist-packages (from requests->mnist1d==0.0.2.post16) (2.2.3)\n",
            "Requirement already satisfied: certifi>=2017.4.17 in /usr/local/lib/python3.10/dist-packages (from requests->mnist1d==0.0.2.post16) (2024.8.30)\n",
            "Requirement already satisfied: six>=1.5 in /usr/local/lib/python3.10/dist-packages (from python-dateutil>=2.7->matplotlib->mnist1d==0.0.2.post16) (1.16.0)\n",
            "Building wheels for collected packages: mnist1d\n",
            "  Building wheel for mnist1d (pyproject.toml) ... \u001b[?25l\u001b[?25hdone\n",
            "  Created wheel for mnist1d: filename=mnist1d-0.0.2.post16-py3-none-any.whl size=14624 sha256=27c26c7f58572478b1e50c2e4242f1276eee937c19be1cbaef8ffa9a1478af7b\n",
            "  Stored in directory: /tmp/pip-ephem-wheel-cache-yhx__ci5/wheels/41/95/55/45fcf7d38cfa97e35682da6c5017d4513729131326ce935371\n",
            "Successfully built mnist1d\n",
            "Installing collected packages: mnist1d\n",
            "Successfully installed mnist1d-0.0.2.post16\n"
          ]
        }
      ]
    },
    {
      "cell_type": "code",
      "source": [
        "import numpy as np\n",
        "import os\n",
        "import torch, torch.nn as nn\n",
        "from torch.utils.data import TensorDataset, DataLoader\n",
        "from torch.optim.lr_scheduler import StepLR\n",
        "import matplotlib.pyplot as plt\n",
        "import mnist1d\n",
        "import random"
      ],
      "metadata": {
        "id": "YrXWAH7sUWvU"
      },
      "execution_count": 2,
      "outputs": []
    },
    {
      "cell_type": "code",
      "source": [
        "args = mnist1d.data.get_dataset_args()\n",
        "data = mnist1d.data.get_dataset(args, path='./mnist1d_data.pkl', download=False, regenerate=False)\n",
        "\n",
        "# The training and test input and outputs are in\n",
        "# data['x'], data['y'], data['x_test'], and data['y_test']\n",
        "print(\"Examples in training set: {}\".format(len(data['y'])))\n",
        "print(\"Examples in test set: {}\".format(len(data['y_test'])))\n",
        "print(\"Length of each example: {}\".format(data['x'].shape[-1]))"
      ],
      "metadata": {
        "id": "twI72ZCrCt5z",
        "colab": {
          "base_uri": "https://localhost:8080/"
        },
        "outputId": "fd6a7fe9-ddea-42dc-a539-60b207fffc3b"
      },
      "execution_count": 3,
      "outputs": [
        {
          "output_type": "stream",
          "name": "stdout",
          "text": [
            "Did or could not load data from ./mnist1d_data.pkl. Rebuilding dataset...\n",
            "Examples in training set: 4000\n",
            "Examples in test set: 1000\n",
            "Length of each example: 40\n"
          ]
        }
      ]
    },
    {
      "cell_type": "code",
      "source": [
        "# Load in the data\n",
        "train_data_x = data['x'].transpose()\n",
        "train_data_y = data['y']\n",
        "val_data_x = data['x_test'].transpose()\n",
        "val_data_y = data['y_test']\n",
        "# Print out sizes\n",
        "print(\"Train data: %d examples (columns), each of which has %d dimensions (rows)\"%((train_data_x.shape[1],train_data_x.shape[0])))\n",
        "print(\"Validation data: %d examples (columns), each of which has %d dimensions (rows)\"%((val_data_x.shape[1],val_data_x.shape[0])))"
      ],
      "metadata": {
        "id": "8bKADvLHbiV5",
        "colab": {
          "base_uri": "https://localhost:8080/"
        },
        "outputId": "8c2487c0-257e-4aaa-eb57-d5f4d91046c2"
      },
      "execution_count": 4,
      "outputs": [
        {
          "output_type": "stream",
          "name": "stdout",
          "text": [
            "Train data: 4000 examples (columns), each of which has 40 dimensions (rows)\n",
            "Validation data: 1000 examples (columns), each of which has 40 dimensions (rows)\n"
          ]
        }
      ]
    },
    {
      "cell_type": "markdown",
      "source": [
        "Define the network"
      ],
      "metadata": {
        "id": "_sFvRDGrl4qe"
      }
    },
    {
      "cell_type": "code",
      "source": [
        "# There are 40 input dimensions and 10 output dimensions for this data\n",
        "# The inputs correspond to the 40 offsets in the MNIST1D template.\n",
        "D_i = 40\n",
        "# The outputs correspond to the 10 digits\n",
        "D_o = 10\n",
        "\n",
        "\n",
        "# TODO Create a model with the following layers\n",
        "# 1. Convolutional layer, (input=length 40 and 1 channel, kernel size 3, stride 2, padding=\"valid\", 15 output channels )\n",
        "# 2. ReLU\n",
        "# 3. Convolutional layer, (input=length 19 and 15 channels, kernel size 3, stride 2, padding=\"valid\", 15 output channels )\n",
        "# 4. ReLU\n",
        "# 5. Convolutional layer, (input=length 9 and 15 channels, kernel size 3, stride 2, padding=\"valid\", 15 output channels)\n",
        "# 6. ReLU\n",
        "# 7. Flatten (converts 4x15) to length 60\n",
        "# 8. Linear layer (input size = 60, output size = 10)\n",
        "# References:\n",
        "# https://pytorch.org/docs/1.13/generated/torch.nn.Conv1d.html?highlight=conv1d#torch.nn.Conv1d\n",
        "# https://pytorch.org/docs/stable/generated/torch.nn.Flatten.html\n",
        "# https://pytorch.org/docs/1.13/generated/torch.nn.Linear.html?highlight=linear#torch.nn.Linear\n",
        "\n",
        "# NOTE THAT THE CONVOLUTIONAL LAYERS NEED TO TAKE THE NUMBER OF INPUT CHANNELS AS A PARAMETER\n",
        "# AND NOT THE INPUT SIZE.\n",
        "\n",
        "# Replace the following function:\n",
        "model = nn.Sequential(\n",
        "    nn.Conv1d(1, 15, kernel_size=3, stride=2, padding=\"valid\"),\n",
        "    nn.ReLU(),\n",
        "    nn.Conv1d(15, 15, kernel_size=3, stride=2, padding=\"valid\"),\n",
        "    nn.ReLU(),\n",
        "    nn.Conv1d(15, 15, kernel_size=3, stride=2, padding=\"valid\"),\n",
        "    nn.ReLU(),\n",
        "    nn.Flatten(),\n",
        "    nn.Linear(60, 10)\n",
        ")\n",
        "\n",
        "\n"
      ],
      "metadata": {
        "id": "FslroPJJffrh"
      },
      "execution_count": 5,
      "outputs": []
    },
    {
      "cell_type": "code",
      "source": [
        "# He initialization of weights\n",
        "def weights_init(layer_in):\n",
        "  if isinstance(layer_in, nn.Linear):\n",
        "    nn.init.kaiming_uniform_(layer_in.weight)\n",
        "    layer_in.bias.data.fill_(0.0)"
      ],
      "metadata": {
        "id": "YgLaex1pfhqz"
      },
      "execution_count": 6,
      "outputs": []
    },
    {
      "cell_type": "code",
      "source": [
        "# choose cross entropy loss function (equation 5.24 in the loss notes)\n",
        "loss_function = nn.CrossEntropyLoss()\n",
        "# construct SGD optimizer and initialize learning rate and momentum\n",
        "optimizer = torch.optim.SGD(model.parameters(), lr = 0.05, momentum=0.9)\n",
        "# object that decreases learning rate by half every 20 epochs\n",
        "scheduler = StepLR(optimizer, step_size=20, gamma=0.5)\n",
        "# create 100 dummy data points and store in data loader class\n",
        "x_train = torch.tensor(train_data_x.transpose().astype('float32'))\n",
        "y_train = torch.tensor(train_data_y.astype('long')).long()\n",
        "x_val= torch.tensor(val_data_x.transpose().astype('float32'))\n",
        "y_val = torch.tensor(val_data_y.astype('long')).long()\n",
        "\n",
        "# load the data into a class that creates the batches\n",
        "data_loader = DataLoader(TensorDataset(x_train,y_train), batch_size=100, shuffle=True, worker_init_fn=np.random.seed(1))\n",
        "\n",
        "# Initialize model weights\n",
        "model.apply(weights_init)\n",
        "\n",
        "# loop over the dataset n_epoch times\n",
        "n_epoch = 100\n",
        "# store the loss and the % correct at each epoch\n",
        "losses_train = np.zeros((n_epoch))\n",
        "errors_train = np.zeros((n_epoch))\n",
        "losses_val = np.zeros((n_epoch))\n",
        "errors_val = np.zeros((n_epoch))\n",
        "\n",
        "for epoch in range(n_epoch):\n",
        "  # loop over batches\n",
        "  for i, data in enumerate(data_loader):\n",
        "    # retrieve inputs and labels for this batch\n",
        "    x_batch, y_batch = data\n",
        "    # zero the parameter gradients\n",
        "    optimizer.zero_grad()\n",
        "    # forward pass -- calculate model output\n",
        "    pred = model(x_batch[:,None,:])\n",
        "    # compute the loss\n",
        "    loss = loss_function(pred, y_batch)\n",
        "    # backward pass\n",
        "    loss.backward()\n",
        "    # SGD update\n",
        "    optimizer.step()\n",
        "\n",
        "  # Run whole dataset to get statistics -- normally wouldn't do this\n",
        "  pred_train = model(x_train[:,None,:])\n",
        "  pred_val = model(x_val[:,None,:])\n",
        "  _, predicted_train_class = torch.max(pred_train.data, 1)\n",
        "  _, predicted_val_class = torch.max(pred_val.data, 1)\n",
        "  errors_train[epoch] = 100 - 100 * (predicted_train_class == y_train).float().sum() / len(y_train)\n",
        "  errors_val[epoch]= 100 - 100 * (predicted_val_class == y_val).float().sum() / len(y_val)\n",
        "  losses_train[epoch] = loss_function(pred_train, y_train).item()\n",
        "  losses_val[epoch]= loss_function(pred_val, y_val).item()\n",
        "  print(f'Epoch {epoch:5d}, train loss {losses_train[epoch]:.6f}, train error {errors_train[epoch]:3.2f},  val loss {losses_val[epoch]:.6f}, percent error {errors_val[epoch]:3.2f}')\n",
        "\n",
        "  # tell scheduler to consider updating learning rate\n",
        "  scheduler.step()\n",
        "\n",
        "# Plot the results\n",
        "fig, ax = plt.subplots()\n",
        "ax.plot(errors_train,'r-',label='train')\n",
        "ax.plot(errors_val,'b-',label='validation')\n",
        "ax.set_ylim(0,100); ax.set_xlim(0,n_epoch)\n",
        "ax.set_xlabel('Epoch'); ax.set_ylabel('Error')\n",
        "ax.set_title('Part I: Validation Result %3.2f'%(errors_val[-1]))\n",
        "ax.legend()\n",
        "plt.show()"
      ],
      "metadata": {
        "id": "NYw8I_3mmX5c",
        "colab": {
          "base_uri": "https://localhost:8080/",
          "height": 1000
        },
        "outputId": "1b1025c4-f9f2-4cac-e3c7-8ec69626e38c"
      },
      "execution_count": 7,
      "outputs": [
        {
          "output_type": "stream",
          "name": "stdout",
          "text": [
            "Epoch     0, train loss 1.997456, train error 79.18,  val loss 1.992454, percent error 80.00\n",
            "Epoch     1, train loss 1.678653, train error 65.97,  val loss 1.719495, percent error 69.10\n",
            "Epoch     2, train loss 1.485515, train error 59.85,  val loss 1.507930, percent error 62.30\n",
            "Epoch     3, train loss 1.347664, train error 54.60,  val loss 1.374827, percent error 56.50\n",
            "Epoch     4, train loss 1.291498, train error 52.65,  val loss 1.308488, percent error 55.30\n",
            "Epoch     5, train loss 1.102926, train error 45.42,  val loss 1.120424, percent error 47.10\n",
            "Epoch     6, train loss 1.039255, train error 42.17,  val loss 1.070401, percent error 43.50\n",
            "Epoch     7, train loss 1.050035, train error 41.47,  val loss 1.092820, percent error 41.40\n",
            "Epoch     8, train loss 0.862711, train error 34.15,  val loss 0.923733, percent error 38.80\n",
            "Epoch     9, train loss 0.851935, train error 34.30,  val loss 0.920213, percent error 37.10\n",
            "Epoch    10, train loss 0.755471, train error 31.53,  val loss 0.825197, percent error 36.10\n",
            "Epoch    11, train loss 0.705105, train error 28.20,  val loss 0.803245, percent error 32.90\n",
            "Epoch    12, train loss 0.687346, train error 26.60,  val loss 0.792962, percent error 30.40\n",
            "Epoch    13, train loss 0.638898, train error 26.03,  val loss 0.762875, percent error 30.40\n",
            "Epoch    14, train loss 0.593936, train error 23.80,  val loss 0.713728, percent error 27.80\n",
            "Epoch    15, train loss 0.557720, train error 22.43,  val loss 0.673699, percent error 26.00\n",
            "Epoch    16, train loss 0.487864, train error 18.78,  val loss 0.604526, percent error 22.10\n",
            "Epoch    17, train loss 0.485404, train error 18.93,  val loss 0.630186, percent error 22.80\n",
            "Epoch    18, train loss 0.472977, train error 18.55,  val loss 0.640853, percent error 22.50\n",
            "Epoch    19, train loss 0.498788, train error 18.72,  val loss 0.623663, percent error 22.20\n",
            "Epoch    20, train loss 0.338966, train error 12.62,  val loss 0.487874, percent error 17.80\n",
            "Epoch    21, train loss 0.304312, train error 11.93,  val loss 0.480336, percent error 17.40\n",
            "Epoch    22, train loss 0.276527, train error 9.82,  val loss 0.472097, percent error 16.40\n",
            "Epoch    23, train loss 0.291944, train error 11.22,  val loss 0.485165, percent error 16.30\n",
            "Epoch    24, train loss 0.276326, train error 10.05,  val loss 0.467523, percent error 15.90\n",
            "Epoch    25, train loss 0.234607, train error 8.10,  val loss 0.460477, percent error 15.70\n",
            "Epoch    26, train loss 0.238324, train error 8.53,  val loss 0.471820, percent error 15.90\n",
            "Epoch    27, train loss 0.213653, train error 7.55,  val loss 0.455127, percent error 14.70\n",
            "Epoch    28, train loss 0.210014, train error 7.70,  val loss 0.455761, percent error 13.90\n",
            "Epoch    29, train loss 0.192922, train error 6.32,  val loss 0.444158, percent error 13.60\n",
            "Epoch    30, train loss 0.179546, train error 5.72,  val loss 0.429277, percent error 13.80\n",
            "Epoch    31, train loss 0.167449, train error 5.80,  val loss 0.419625, percent error 13.60\n",
            "Epoch    32, train loss 0.171877, train error 5.95,  val loss 0.421599, percent error 12.60\n",
            "Epoch    33, train loss 0.209726, train error 7.78,  val loss 0.480032, percent error 14.70\n",
            "Epoch    34, train loss 0.183588, train error 7.03,  val loss 0.422651, percent error 12.00\n",
            "Epoch    35, train loss 0.162408, train error 5.62,  val loss 0.420599, percent error 11.20\n",
            "Epoch    36, train loss 0.150518, train error 5.35,  val loss 0.425571, percent error 13.40\n",
            "Epoch    37, train loss 0.130716, train error 4.22,  val loss 0.419890, percent error 11.90\n",
            "Epoch    38, train loss 0.133685, train error 4.45,  val loss 0.428657, percent error 12.50\n",
            "Epoch    39, train loss 0.118255, train error 3.97,  val loss 0.404276, percent error 10.90\n",
            "Epoch    40, train loss 0.106637, train error 2.97,  val loss 0.405236, percent error 11.00\n",
            "Epoch    41, train loss 0.106832, train error 3.35,  val loss 0.412503, percent error 11.50\n",
            "Epoch    42, train loss 0.104349, train error 3.00,  val loss 0.403205, percent error 11.60\n",
            "Epoch    43, train loss 0.097786, train error 2.88,  val loss 0.414449, percent error 11.60\n",
            "Epoch    44, train loss 0.097003, train error 2.80,  val loss 0.418402, percent error 11.20\n",
            "Epoch    45, train loss 0.091745, train error 2.57,  val loss 0.407327, percent error 11.20\n",
            "Epoch    46, train loss 0.090250, train error 2.60,  val loss 0.419453, percent error 11.60\n",
            "Epoch    47, train loss 0.092496, train error 2.80,  val loss 0.427785, percent error 11.20\n",
            "Epoch    48, train loss 0.086336, train error 2.55,  val loss 0.413671, percent error 11.20\n",
            "Epoch    49, train loss 0.084350, train error 2.30,  val loss 0.422303, percent error 11.40\n",
            "Epoch    50, train loss 0.089618, train error 2.80,  val loss 0.427600, percent error 10.80\n",
            "Epoch    51, train loss 0.076546, train error 2.03,  val loss 0.411870, percent error 11.30\n",
            "Epoch    52, train loss 0.075929, train error 2.22,  val loss 0.419478, percent error 10.90\n",
            "Epoch    53, train loss 0.072832, train error 2.05,  val loss 0.429866, percent error 10.60\n",
            "Epoch    54, train loss 0.075586, train error 1.93,  val loss 0.429574, percent error 10.70\n",
            "Epoch    55, train loss 0.071386, train error 1.93,  val loss 0.435024, percent error 10.50\n",
            "Epoch    56, train loss 0.073574, train error 1.90,  val loss 0.434245, percent error 11.30\n",
            "Epoch    57, train loss 0.075708, train error 2.15,  val loss 0.448681, percent error 10.60\n",
            "Epoch    58, train loss 0.073094, train error 1.88,  val loss 0.452839, percent error 11.20\n",
            "Epoch    59, train loss 0.069636, train error 1.78,  val loss 0.440376, percent error 10.70\n",
            "Epoch    60, train loss 0.061377, train error 1.40,  val loss 0.433667, percent error 10.60\n",
            "Epoch    61, train loss 0.062142, train error 1.57,  val loss 0.444880, percent error 11.40\n",
            "Epoch    62, train loss 0.059126, train error 1.38,  val loss 0.436224, percent error 10.90\n",
            "Epoch    63, train loss 0.058095, train error 1.40,  val loss 0.442820, percent error 11.20\n",
            "Epoch    64, train loss 0.056906, train error 1.20,  val loss 0.445050, percent error 10.80\n",
            "Epoch    65, train loss 0.058481, train error 1.32,  val loss 0.445996, percent error 10.70\n",
            "Epoch    66, train loss 0.058282, train error 1.53,  val loss 0.450187, percent error 11.20\n",
            "Epoch    67, train loss 0.058317, train error 1.47,  val loss 0.441687, percent error 10.60\n",
            "Epoch    68, train loss 0.056870, train error 1.30,  val loss 0.442983, percent error 10.70\n",
            "Epoch    69, train loss 0.055293, train error 1.25,  val loss 0.450778, percent error 10.90\n",
            "Epoch    70, train loss 0.054747, train error 1.15,  val loss 0.450083, percent error 10.60\n",
            "Epoch    71, train loss 0.052637, train error 1.10,  val loss 0.453300, percent error 10.70\n",
            "Epoch    72, train loss 0.052899, train error 1.07,  val loss 0.443511, percent error 10.80\n",
            "Epoch    73, train loss 0.052808, train error 1.28,  val loss 0.454964, percent error 11.10\n",
            "Epoch    74, train loss 0.051259, train error 1.00,  val loss 0.455406, percent error 10.80\n",
            "Epoch    75, train loss 0.051750, train error 1.05,  val loss 0.458681, percent error 11.00\n",
            "Epoch    76, train loss 0.051119, train error 1.28,  val loss 0.454273, percent error 10.80\n",
            "Epoch    77, train loss 0.049581, train error 1.07,  val loss 0.458134, percent error 11.10\n",
            "Epoch    78, train loss 0.050812, train error 1.10,  val loss 0.466151, percent error 11.00\n",
            "Epoch    79, train loss 0.048242, train error 1.00,  val loss 0.458624, percent error 10.70\n",
            "Epoch    80, train loss 0.048944, train error 1.03,  val loss 0.467306, percent error 10.60\n",
            "Epoch    81, train loss 0.046911, train error 0.93,  val loss 0.468293, percent error 10.80\n",
            "Epoch    82, train loss 0.046835, train error 0.90,  val loss 0.464698, percent error 10.50\n",
            "Epoch    83, train loss 0.046439, train error 0.93,  val loss 0.463521, percent error 10.80\n",
            "Epoch    84, train loss 0.046150, train error 0.88,  val loss 0.465795, percent error 10.40\n",
            "Epoch    85, train loss 0.046859, train error 0.95,  val loss 0.472731, percent error 10.60\n",
            "Epoch    86, train loss 0.045439, train error 0.90,  val loss 0.465593, percent error 10.70\n",
            "Epoch    87, train loss 0.045643, train error 0.85,  val loss 0.468080, percent error 10.90\n",
            "Epoch    88, train loss 0.045185, train error 0.93,  val loss 0.468841, percent error 10.60\n",
            "Epoch    89, train loss 0.044627, train error 0.80,  val loss 0.470405, percent error 10.40\n",
            "Epoch    90, train loss 0.044613, train error 0.75,  val loss 0.470493, percent error 10.30\n",
            "Epoch    91, train loss 0.044618, train error 0.82,  val loss 0.468333, percent error 10.60\n",
            "Epoch    92, train loss 0.043903, train error 0.78,  val loss 0.471024, percent error 10.50\n",
            "Epoch    93, train loss 0.043685, train error 0.75,  val loss 0.471088, percent error 10.50\n",
            "Epoch    94, train loss 0.044226, train error 0.90,  val loss 0.473135, percent error 10.40\n",
            "Epoch    95, train loss 0.043347, train error 0.70,  val loss 0.474774, percent error 10.40\n",
            "Epoch    96, train loss 0.043026, train error 0.72,  val loss 0.476297, percent error 10.40\n",
            "Epoch    97, train loss 0.043415, train error 0.80,  val loss 0.478982, percent error 10.60\n",
            "Epoch    98, train loss 0.042945, train error 0.85,  val loss 0.474586, percent error 10.60\n",
            "Epoch    99, train loss 0.042742, train error 0.80,  val loss 0.479327, percent error 10.40\n"
          ]
        },
        {
          "output_type": "display_data",
          "data": {
            "text/plain": [
              "<Figure size 640x480 with 1 Axes>"
            ],
            "image/png": "[encoded data removed]"
          },
          "metadata": {}
        }
      ]
    }
  ]
}